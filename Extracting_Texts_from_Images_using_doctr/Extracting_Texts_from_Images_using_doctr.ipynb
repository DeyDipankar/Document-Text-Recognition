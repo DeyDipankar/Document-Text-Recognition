{
  "nbformat": 4,
  "nbformat_minor": 0,
  "metadata": {
    "colab": {
      "name": "Extracting Texts from Images using doctr.ipynb",
      "provenance": []
    },
    "kernelspec": {
      "name": "python3",
      "display_name": "Python 3"
    },
    "language_info": {
      "name": "python"
    },
    "widgets": {
      "application/vnd.jupyter.widget-state+json": {
        "bcfcc683cc2c42d9b7fc2f8712d691b6": {
          "model_module": "@jupyter-widgets/controls",
          "model_name": "HBoxModel",
          "model_module_version": "1.5.0",
          "state": {
            "_view_name": "HBoxView",
            "_dom_classes": [],
            "_model_name": "HBoxModel",
            "_view_module": "@jupyter-widgets/controls",
            "_model_module_version": "1.5.0",
            "_view_count": null,
            "_view_module_version": "1.5.0",
            "box_style": "",
            "layout": "IPY_MODEL_ee3e616bc1574762995b0c11fae9fea6",
            "_model_module": "@jupyter-widgets/controls",
            "children": [
              "IPY_MODEL_df655f21a18f4f3bbdb9761a8ad4cec7",
              "IPY_MODEL_c4bb0961502b4e918562c3a15cdbdc7c",
              "IPY_MODEL_dbb89e67cfed4290b7528a54984138cf"
            ]
          }
        },
        "ee3e616bc1574762995b0c11fae9fea6": {
          "model_module": "@jupyter-widgets/base",
          "model_name": "LayoutModel",
          "model_module_version": "1.2.0",
          "state": {
            "_view_name": "LayoutView",
            "grid_template_rows": null,
            "right": null,
            "justify_content": null,
            "_view_module": "@jupyter-widgets/base",
            "overflow": null,
            "_model_module_version": "1.2.0",
            "_view_count": null,
            "flex_flow": null,
            "width": null,
            "min_width": null,
            "border": null,
            "align_items": null,
            "bottom": null,
            "_model_module": "@jupyter-widgets/base",
            "top": null,
            "grid_column": null,
            "overflow_y": null,
            "overflow_x": null,
            "grid_auto_flow": null,
            "grid_area": null,
            "grid_template_columns": null,
            "flex": null,
            "_model_name": "LayoutModel",
            "justify_items": null,
            "grid_row": null,
            "max_height": null,
            "align_content": null,
            "visibility": null,
            "align_self": null,
            "height": null,
            "min_height": null,
            "padding": null,
            "grid_auto_rows": null,
            "grid_gap": null,
            "max_width": null,
            "order": null,
            "_view_module_version": "1.2.0",
            "grid_template_areas": null,
            "object_position": null,
            "object_fit": null,
            "grid_auto_columns": null,
            "margin": null,
            "display": null,
            "left": null
          }
        },
        "df655f21a18f4f3bbdb9761a8ad4cec7": {
          "model_module": "@jupyter-widgets/controls",
          "model_name": "HTMLModel",
          "model_module_version": "1.5.0",
          "state": {
            "_view_name": "HTMLView",
            "style": "IPY_MODEL_0a4ff5231ec347259d730571c1f42a66",
            "_dom_classes": [],
            "description": "",
            "_model_name": "HTMLModel",
            "placeholder": "​",
            "_view_module": "@jupyter-widgets/controls",
            "_model_module_version": "1.5.0",
            "value": "",
            "_view_count": null,
            "_view_module_version": "1.5.0",
            "description_tooltip": null,
            "_model_module": "@jupyter-widgets/controls",
            "layout": "IPY_MODEL_4e815b6275004b049a98f53a991f4a5e"
          }
        },
        "c4bb0961502b4e918562c3a15cdbdc7c": {
          "model_module": "@jupyter-widgets/controls",
          "model_name": "FloatProgressModel",
          "model_module_version": "1.5.0",
          "state": {
            "_view_name": "ProgressView",
            "style": "IPY_MODEL_82a98d6c5a394cd48648cf391004c9e1",
            "_dom_classes": [],
            "description": "",
            "_model_name": "FloatProgressModel",
            "bar_style": "success",
            "max": 94178964,
            "_view_module": "@jupyter-widgets/controls",
            "_model_module_version": "1.5.0",
            "value": 94178964,
            "_view_count": null,
            "_view_module_version": "1.5.0",
            "orientation": "horizontal",
            "min": 0,
            "description_tooltip": null,
            "_model_module": "@jupyter-widgets/controls",
            "layout": "IPY_MODEL_03461f283a7e472b8753beeb959c8a7b"
          }
        },
        "dbb89e67cfed4290b7528a54984138cf": {
          "model_module": "@jupyter-widgets/controls",
          "model_name": "HTMLModel",
          "model_module_version": "1.5.0",
          "state": {
            "_view_name": "HTMLView",
            "style": "IPY_MODEL_fd8851a68b5d44e2804e9460c1a226d4",
            "_dom_classes": [],
            "description": "",
            "_model_name": "HTMLModel",
            "placeholder": "​",
            "_view_module": "@jupyter-widgets/controls",
            "_model_module_version": "1.5.0",
            "value": " 94179328/? [00:01&lt;00:00, 77019705.90it/s]",
            "_view_count": null,
            "_view_module_version": "1.5.0",
            "description_tooltip": null,
            "_model_module": "@jupyter-widgets/controls",
            "layout": "IPY_MODEL_7e7b550d25a54964b85649ffd405a524"
          }
        },
        "0a4ff5231ec347259d730571c1f42a66": {
          "model_module": "@jupyter-widgets/controls",
          "model_name": "DescriptionStyleModel",
          "model_module_version": "1.5.0",
          "state": {
            "_view_name": "StyleView",
            "_model_name": "DescriptionStyleModel",
            "description_width": "",
            "_view_module": "@jupyter-widgets/base",
            "_model_module_version": "1.5.0",
            "_view_count": null,
            "_view_module_version": "1.2.0",
            "_model_module": "@jupyter-widgets/controls"
          }
        },
        "4e815b6275004b049a98f53a991f4a5e": {
          "model_module": "@jupyter-widgets/base",
          "model_name": "LayoutModel",
          "model_module_version": "1.2.0",
          "state": {
            "_view_name": "LayoutView",
            "grid_template_rows": null,
            "right": null,
            "justify_content": null,
            "_view_module": "@jupyter-widgets/base",
            "overflow": null,
            "_model_module_version": "1.2.0",
            "_view_count": null,
            "flex_flow": null,
            "width": null,
            "min_width": null,
            "border": null,
            "align_items": null,
            "bottom": null,
            "_model_module": "@jupyter-widgets/base",
            "top": null,
            "grid_column": null,
            "overflow_y": null,
            "overflow_x": null,
            "grid_auto_flow": null,
            "grid_area": null,
            "grid_template_columns": null,
            "flex": null,
            "_model_name": "LayoutModel",
            "justify_items": null,
            "grid_row": null,
            "max_height": null,
            "align_content": null,
            "visibility": null,
            "align_self": null,
            "height": null,
            "min_height": null,
            "padding": null,
            "grid_auto_rows": null,
            "grid_gap": null,
            "max_width": null,
            "order": null,
            "_view_module_version": "1.2.0",
            "grid_template_areas": null,
            "object_position": null,
            "object_fit": null,
            "grid_auto_columns": null,
            "margin": null,
            "display": null,
            "left": null
          }
        },
        "82a98d6c5a394cd48648cf391004c9e1": {
          "model_module": "@jupyter-widgets/controls",
          "model_name": "ProgressStyleModel",
          "model_module_version": "1.5.0",
          "state": {
            "_view_name": "StyleView",
            "_model_name": "ProgressStyleModel",
            "description_width": "",
            "_view_module": "@jupyter-widgets/base",
            "_model_module_version": "1.5.0",
            "_view_count": null,
            "_view_module_version": "1.2.0",
            "bar_color": null,
            "_model_module": "@jupyter-widgets/controls"
          }
        },
        "03461f283a7e472b8753beeb959c8a7b": {
          "model_module": "@jupyter-widgets/base",
          "model_name": "LayoutModel",
          "model_module_version": "1.2.0",
          "state": {
            "_view_name": "LayoutView",
            "grid_template_rows": null,
            "right": null,
            "justify_content": null,
            "_view_module": "@jupyter-widgets/base",
            "overflow": null,
            "_model_module_version": "1.2.0",
            "_view_count": null,
            "flex_flow": null,
            "width": null,
            "min_width": null,
            "border": null,
            "align_items": null,
            "bottom": null,
            "_model_module": "@jupyter-widgets/base",
            "top": null,
            "grid_column": null,
            "overflow_y": null,
            "overflow_x": null,
            "grid_auto_flow": null,
            "grid_area": null,
            "grid_template_columns": null,
            "flex": null,
            "_model_name": "LayoutModel",
            "justify_items": null,
            "grid_row": null,
            "max_height": null,
            "align_content": null,
            "visibility": null,
            "align_self": null,
            "height": null,
            "min_height": null,
            "padding": null,
            "grid_auto_rows": null,
            "grid_gap": null,
            "max_width": null,
            "order": null,
            "_view_module_version": "1.2.0",
            "grid_template_areas": null,
            "object_position": null,
            "object_fit": null,
            "grid_auto_columns": null,
            "margin": null,
            "display": null,
            "left": null
          }
        },
        "fd8851a68b5d44e2804e9460c1a226d4": {
          "model_module": "@jupyter-widgets/controls",
          "model_name": "DescriptionStyleModel",
          "model_module_version": "1.5.0",
          "state": {
            "_view_name": "StyleView",
            "_model_name": "DescriptionStyleModel",
            "description_width": "",
            "_view_module": "@jupyter-widgets/base",
            "_model_module_version": "1.5.0",
            "_view_count": null,
            "_view_module_version": "1.2.0",
            "_model_module": "@jupyter-widgets/controls"
          }
        },
        "7e7b550d25a54964b85649ffd405a524": {
          "model_module": "@jupyter-widgets/base",
          "model_name": "LayoutModel",
          "model_module_version": "1.2.0",
          "state": {
            "_view_name": "LayoutView",
            "grid_template_rows": null,
            "right": null,
            "justify_content": null,
            "_view_module": "@jupyter-widgets/base",
            "overflow": null,
            "_model_module_version": "1.2.0",
            "_view_count": null,
            "flex_flow": null,
            "width": null,
            "min_width": null,
            "border": null,
            "align_items": null,
            "bottom": null,
            "_model_module": "@jupyter-widgets/base",
            "top": null,
            "grid_column": null,
            "overflow_y": null,
            "overflow_x": null,
            "grid_auto_flow": null,
            "grid_area": null,
            "grid_template_columns": null,
            "flex": null,
            "_model_name": "LayoutModel",
            "justify_items": null,
            "grid_row": null,
            "max_height": null,
            "align_content": null,
            "visibility": null,
            "align_self": null,
            "height": null,
            "min_height": null,
            "padding": null,
            "grid_auto_rows": null,
            "grid_gap": null,
            "max_width": null,
            "order": null,
            "_view_module_version": "1.2.0",
            "grid_template_areas": null,
            "object_position": null,
            "object_fit": null,
            "grid_auto_columns": null,
            "margin": null,
            "display": null,
            "left": null
          }
        },
        "bcf55d9740014eff83e0c804deab3bdc": {
          "model_module": "@jupyter-widgets/controls",
          "model_name": "HBoxModel",
          "model_module_version": "1.5.0",
          "state": {
            "_view_name": "HBoxView",
            "_dom_classes": [],
            "_model_name": "HBoxModel",
            "_view_module": "@jupyter-widgets/controls",
            "_model_module_version": "1.5.0",
            "_view_count": null,
            "_view_module_version": "1.5.0",
            "box_style": "",
            "layout": "IPY_MODEL_2ffec019c3264a2a81d193720f5a876f",
            "_model_module": "@jupyter-widgets/controls",
            "children": [
              "IPY_MODEL_b4e67656938d4324b9eeb19a884a9d57",
              "IPY_MODEL_8562f05f690648388c4f49ded3157cc0",
              "IPY_MODEL_350d86f45a91427d8a4adb00e1b2c381"
            ]
          }
        },
        "2ffec019c3264a2a81d193720f5a876f": {
          "model_module": "@jupyter-widgets/base",
          "model_name": "LayoutModel",
          "model_module_version": "1.2.0",
          "state": {
            "_view_name": "LayoutView",
            "grid_template_rows": null,
            "right": null,
            "justify_content": null,
            "_view_module": "@jupyter-widgets/base",
            "overflow": null,
            "_model_module_version": "1.2.0",
            "_view_count": null,
            "flex_flow": null,
            "width": null,
            "min_width": null,
            "border": null,
            "align_items": null,
            "bottom": null,
            "_model_module": "@jupyter-widgets/base",
            "top": null,
            "grid_column": null,
            "overflow_y": null,
            "overflow_x": null,
            "grid_auto_flow": null,
            "grid_area": null,
            "grid_template_columns": null,
            "flex": null,
            "_model_name": "LayoutModel",
            "justify_items": null,
            "grid_row": null,
            "max_height": null,
            "align_content": null,
            "visibility": null,
            "align_self": null,
            "height": null,
            "min_height": null,
            "padding": null,
            "grid_auto_rows": null,
            "grid_gap": null,
            "max_width": null,
            "order": null,
            "_view_module_version": "1.2.0",
            "grid_template_areas": null,
            "object_position": null,
            "object_fit": null,
            "grid_auto_columns": null,
            "margin": null,
            "display": null,
            "left": null
          }
        },
        "b4e67656938d4324b9eeb19a884a9d57": {
          "model_module": "@jupyter-widgets/controls",
          "model_name": "HTMLModel",
          "model_module_version": "1.5.0",
          "state": {
            "_view_name": "HTMLView",
            "style": "IPY_MODEL_05f7eb4a68a24124899f6357666d72c9",
            "_dom_classes": [],
            "description": "",
            "_model_name": "HTMLModel",
            "placeholder": "​",
            "_view_module": "@jupyter-widgets/controls",
            "_model_module_version": "1.5.0",
            "value": "",
            "_view_count": null,
            "_view_module_version": "1.5.0",
            "description_tooltip": null,
            "_model_module": "@jupyter-widgets/controls",
            "layout": "IPY_MODEL_d4243caedf4847d5ac082f603ae9cdbc"
          }
        },
        "8562f05f690648388c4f49ded3157cc0": {
          "model_module": "@jupyter-widgets/controls",
          "model_name": "FloatProgressModel",
          "model_module_version": "1.5.0",
          "state": {
            "_view_name": "ProgressView",
            "style": "IPY_MODEL_56ea6f353d734839815816615f721c4f",
            "_dom_classes": [],
            "description": "",
            "_model_name": "FloatProgressModel",
            "bar_style": "success",
            "max": 58758994,
            "_view_module": "@jupyter-widgets/controls",
            "_model_module_version": "1.5.0",
            "value": 58758994,
            "_view_count": null,
            "_view_module_version": "1.5.0",
            "orientation": "horizontal",
            "min": 0,
            "description_tooltip": null,
            "_model_module": "@jupyter-widgets/controls",
            "layout": "IPY_MODEL_52681ba229404c4bba91b79abcaf0e4f"
          }
        },
        "350d86f45a91427d8a4adb00e1b2c381": {
          "model_module": "@jupyter-widgets/controls",
          "model_name": "HTMLModel",
          "model_module_version": "1.5.0",
          "state": {
            "_view_name": "HTMLView",
            "style": "IPY_MODEL_0143b6e8b1094dcab2c26e1415176090",
            "_dom_classes": [],
            "description": "",
            "_model_name": "HTMLModel",
            "placeholder": "​",
            "_view_module": "@jupyter-widgets/controls",
            "_model_module_version": "1.5.0",
            "value": " 58759168/? [00:00&lt;00:00, 66242090.87it/s]",
            "_view_count": null,
            "_view_module_version": "1.5.0",
            "description_tooltip": null,
            "_model_module": "@jupyter-widgets/controls",
            "layout": "IPY_MODEL_9c035a179b44421d8a52ba46ddf0f778"
          }
        },
        "05f7eb4a68a24124899f6357666d72c9": {
          "model_module": "@jupyter-widgets/controls",
          "model_name": "DescriptionStyleModel",
          "model_module_version": "1.5.0",
          "state": {
            "_view_name": "StyleView",
            "_model_name": "DescriptionStyleModel",
            "description_width": "",
            "_view_module": "@jupyter-widgets/base",
            "_model_module_version": "1.5.0",
            "_view_count": null,
            "_view_module_version": "1.2.0",
            "_model_module": "@jupyter-widgets/controls"
          }
        },
        "d4243caedf4847d5ac082f603ae9cdbc": {
          "model_module": "@jupyter-widgets/base",
          "model_name": "LayoutModel",
          "model_module_version": "1.2.0",
          "state": {
            "_view_name": "LayoutView",
            "grid_template_rows": null,
            "right": null,
            "justify_content": null,
            "_view_module": "@jupyter-widgets/base",
            "overflow": null,
            "_model_module_version": "1.2.0",
            "_view_count": null,
            "flex_flow": null,
            "width": null,
            "min_width": null,
            "border": null,
            "align_items": null,
            "bottom": null,
            "_model_module": "@jupyter-widgets/base",
            "top": null,
            "grid_column": null,
            "overflow_y": null,
            "overflow_x": null,
            "grid_auto_flow": null,
            "grid_area": null,
            "grid_template_columns": null,
            "flex": null,
            "_model_name": "LayoutModel",
            "justify_items": null,
            "grid_row": null,
            "max_height": null,
            "align_content": null,
            "visibility": null,
            "align_self": null,
            "height": null,
            "min_height": null,
            "padding": null,
            "grid_auto_rows": null,
            "grid_gap": null,
            "max_width": null,
            "order": null,
            "_view_module_version": "1.2.0",
            "grid_template_areas": null,
            "object_position": null,
            "object_fit": null,
            "grid_auto_columns": null,
            "margin": null,
            "display": null,
            "left": null
          }
        },
        "56ea6f353d734839815816615f721c4f": {
          "model_module": "@jupyter-widgets/controls",
          "model_name": "ProgressStyleModel",
          "model_module_version": "1.5.0",
          "state": {
            "_view_name": "StyleView",
            "_model_name": "ProgressStyleModel",
            "description_width": "",
            "_view_module": "@jupyter-widgets/base",
            "_model_module_version": "1.5.0",
            "_view_count": null,
            "_view_module_version": "1.2.0",
            "bar_color": null,
            "_model_module": "@jupyter-widgets/controls"
          }
        },
        "52681ba229404c4bba91b79abcaf0e4f": {
          "model_module": "@jupyter-widgets/base",
          "model_name": "LayoutModel",
          "model_module_version": "1.2.0",
          "state": {
            "_view_name": "LayoutView",
            "grid_template_rows": null,
            "right": null,
            "justify_content": null,
            "_view_module": "@jupyter-widgets/base",
            "overflow": null,
            "_model_module_version": "1.2.0",
            "_view_count": null,
            "flex_flow": null,
            "width": null,
            "min_width": null,
            "border": null,
            "align_items": null,
            "bottom": null,
            "_model_module": "@jupyter-widgets/base",
            "top": null,
            "grid_column": null,
            "overflow_y": null,
            "overflow_x": null,
            "grid_auto_flow": null,
            "grid_area": null,
            "grid_template_columns": null,
            "flex": null,
            "_model_name": "LayoutModel",
            "justify_items": null,
            "grid_row": null,
            "max_height": null,
            "align_content": null,
            "visibility": null,
            "align_self": null,
            "height": null,
            "min_height": null,
            "padding": null,
            "grid_auto_rows": null,
            "grid_gap": null,
            "max_width": null,
            "order": null,
            "_view_module_version": "1.2.0",
            "grid_template_areas": null,
            "object_position": null,
            "object_fit": null,
            "grid_auto_columns": null,
            "margin": null,
            "display": null,
            "left": null
          }
        },
        "0143b6e8b1094dcab2c26e1415176090": {
          "model_module": "@jupyter-widgets/controls",
          "model_name": "DescriptionStyleModel",
          "model_module_version": "1.5.0",
          "state": {
            "_view_name": "StyleView",
            "_model_name": "DescriptionStyleModel",
            "description_width": "",
            "_view_module": "@jupyter-widgets/base",
            "_model_module_version": "1.5.0",
            "_view_count": null,
            "_view_module_version": "1.2.0",
            "_model_module": "@jupyter-widgets/controls"
          }
        },
        "9c035a179b44421d8a52ba46ddf0f778": {
          "model_module": "@jupyter-widgets/base",
          "model_name": "LayoutModel",
          "model_module_version": "1.2.0",
          "state": {
            "_view_name": "LayoutView",
            "grid_template_rows": null,
            "right": null,
            "justify_content": null,
            "_view_module": "@jupyter-widgets/base",
            "overflow": null,
            "_model_module_version": "1.2.0",
            "_view_count": null,
            "flex_flow": null,
            "width": null,
            "min_width": null,
            "border": null,
            "align_items": null,
            "bottom": null,
            "_model_module": "@jupyter-widgets/base",
            "top": null,
            "grid_column": null,
            "overflow_y": null,
            "overflow_x": null,
            "grid_auto_flow": null,
            "grid_area": null,
            "grid_template_columns": null,
            "flex": null,
            "_model_name": "LayoutModel",
            "justify_items": null,
            "grid_row": null,
            "max_height": null,
            "align_content": null,
            "visibility": null,
            "align_self": null,
            "height": null,
            "min_height": null,
            "padding": null,
            "grid_auto_rows": null,
            "grid_gap": null,
            "max_width": null,
            "order": null,
            "_view_module_version": "1.2.0",
            "grid_template_areas": null,
            "object_position": null,
            "object_fit": null,
            "grid_auto_columns": null,
            "margin": null,
            "display": null,
            "left": null
          }
        }
      }
    }
  },
  "cells": [
    {
      "cell_type": "markdown",
      "metadata": {
        "id": "HTRg41g1ezc2"
      },
      "source": [
        "## Import modules"
      ]
    },
    {
      "cell_type": "code",
      "metadata": {
        "colab": {
          "base_uri": "https://localhost:8080/"
        },
        "id": "1cjfRrVCQGjz",
        "outputId": "2d23368d-4ab3-47d9-ce3e-27312561831d"
      },
      "source": [
        "!git clone https://github.com/mindee/doctr.git # clone the repository"
      ],
      "execution_count": 2,
      "outputs": [
        {
          "output_type": "stream",
          "text": [
            "Cloning into 'doctr'...\n",
            "remote: Enumerating objects: 9449, done.\u001b[K\n",
            "remote: Counting objects: 100% (2964/2964), done.\u001b[K\n",
            "remote: Compressing objects: 100% (1160/1160), done.\u001b[K\n",
            "remote: Total 9449 (delta 2137), reused 2312 (delta 1712), pack-reused 6485\u001b[K\n",
            "Receiving objects: 100% (9449/9449), 9.50 MiB | 24.38 MiB/s, done.\n",
            "Resolving deltas: 100% (6238/6238), done.\n"
          ],
          "name": "stdout"
        }
      ]
    },
    {
      "cell_type": "code",
      "metadata": {
        "colab": {
          "base_uri": "https://localhost:8080/"
        },
        "id": "LhtURLpjPxLd",
        "outputId": "915f89ac-ce31-4327-a252-b6b13f421790"
      },
      "source": [
        "!pip install -q tensorflow-addons # Isntall tensorflow addon dependency"
      ],
      "execution_count": 3,
      "outputs": [
        {
          "output_type": "stream",
          "text": [
            "\u001b[?25l\r\u001b[K     |▎                               | 10 kB 18.3 MB/s eta 0:00:01\r\u001b[K     |▋                               | 20 kB 10.2 MB/s eta 0:00:01\r\u001b[K     |▉                               | 30 kB 7.7 MB/s eta 0:00:01\r\u001b[K     |█▏                              | 40 kB 7.2 MB/s eta 0:00:01\r\u001b[K     |█▌                              | 51 kB 5.3 MB/s eta 0:00:01\r\u001b[K     |█▊                              | 61 kB 5.5 MB/s eta 0:00:01\r\u001b[K     |██                              | 71 kB 5.0 MB/s eta 0:00:01\r\u001b[K     |██▍                             | 81 kB 5.5 MB/s eta 0:00:01\r\u001b[K     |██▋                             | 92 kB 5.7 MB/s eta 0:00:01\r\u001b[K     |███                             | 102 kB 5.1 MB/s eta 0:00:01\r\u001b[K     |███▎                            | 112 kB 5.1 MB/s eta 0:00:01\r\u001b[K     |███▌                            | 122 kB 5.1 MB/s eta 0:00:01\r\u001b[K     |███▉                            | 133 kB 5.1 MB/s eta 0:00:01\r\u001b[K     |████▏                           | 143 kB 5.1 MB/s eta 0:00:01\r\u001b[K     |████▍                           | 153 kB 5.1 MB/s eta 0:00:01\r\u001b[K     |████▊                           | 163 kB 5.1 MB/s eta 0:00:01\r\u001b[K     |█████                           | 174 kB 5.1 MB/s eta 0:00:01\r\u001b[K     |█████▎                          | 184 kB 5.1 MB/s eta 0:00:01\r\u001b[K     |█████▋                          | 194 kB 5.1 MB/s eta 0:00:01\r\u001b[K     |██████                          | 204 kB 5.1 MB/s eta 0:00:01\r\u001b[K     |██████▏                         | 215 kB 5.1 MB/s eta 0:00:01\r\u001b[K     |██████▌                         | 225 kB 5.1 MB/s eta 0:00:01\r\u001b[K     |██████▉                         | 235 kB 5.1 MB/s eta 0:00:01\r\u001b[K     |███████                         | 245 kB 5.1 MB/s eta 0:00:01\r\u001b[K     |███████▍                        | 256 kB 5.1 MB/s eta 0:00:01\r\u001b[K     |███████▊                        | 266 kB 5.1 MB/s eta 0:00:01\r\u001b[K     |████████                        | 276 kB 5.1 MB/s eta 0:00:01\r\u001b[K     |████████▎                       | 286 kB 5.1 MB/s eta 0:00:01\r\u001b[K     |████████▋                       | 296 kB 5.1 MB/s eta 0:00:01\r\u001b[K     |████████▉                       | 307 kB 5.1 MB/s eta 0:00:01\r\u001b[K     |█████████▏                      | 317 kB 5.1 MB/s eta 0:00:01\r\u001b[K     |█████████▌                      | 327 kB 5.1 MB/s eta 0:00:01\r\u001b[K     |█████████▊                      | 337 kB 5.1 MB/s eta 0:00:01\r\u001b[K     |██████████                      | 348 kB 5.1 MB/s eta 0:00:01\r\u001b[K     |██████████▍                     | 358 kB 5.1 MB/s eta 0:00:01\r\u001b[K     |██████████▋                     | 368 kB 5.1 MB/s eta 0:00:01\r\u001b[K     |███████████                     | 378 kB 5.1 MB/s eta 0:00:01\r\u001b[K     |███████████▎                    | 389 kB 5.1 MB/s eta 0:00:01\r\u001b[K     |███████████▌                    | 399 kB 5.1 MB/s eta 0:00:01\r\u001b[K     |███████████▉                    | 409 kB 5.1 MB/s eta 0:00:01\r\u001b[K     |████████████▏                   | 419 kB 5.1 MB/s eta 0:00:01\r\u001b[K     |████████████▍                   | 430 kB 5.1 MB/s eta 0:00:01\r\u001b[K     |████████████▊                   | 440 kB 5.1 MB/s eta 0:00:01\r\u001b[K     |█████████████                   | 450 kB 5.1 MB/s eta 0:00:01\r\u001b[K     |█████████████▎                  | 460 kB 5.1 MB/s eta 0:00:01\r\u001b[K     |█████████████▋                  | 471 kB 5.1 MB/s eta 0:00:01\r\u001b[K     |██████████████                  | 481 kB 5.1 MB/s eta 0:00:01\r\u001b[K     |██████████████▏                 | 491 kB 5.1 MB/s eta 0:00:01\r\u001b[K     |██████████████▌                 | 501 kB 5.1 MB/s eta 0:00:01\r\u001b[K     |██████████████▉                 | 512 kB 5.1 MB/s eta 0:00:01\r\u001b[K     |███████████████                 | 522 kB 5.1 MB/s eta 0:00:01\r\u001b[K     |███████████████▍                | 532 kB 5.1 MB/s eta 0:00:01\r\u001b[K     |███████████████▊                | 542 kB 5.1 MB/s eta 0:00:01\r\u001b[K     |████████████████                | 552 kB 5.1 MB/s eta 0:00:01\r\u001b[K     |████████████████▎               | 563 kB 5.1 MB/s eta 0:00:01\r\u001b[K     |████████████████▋               | 573 kB 5.1 MB/s eta 0:00:01\r\u001b[K     |████████████████▉               | 583 kB 5.1 MB/s eta 0:00:01\r\u001b[K     |█████████████████▏              | 593 kB 5.1 MB/s eta 0:00:01\r\u001b[K     |█████████████████▌              | 604 kB 5.1 MB/s eta 0:00:01\r\u001b[K     |█████████████████▊              | 614 kB 5.1 MB/s eta 0:00:01\r\u001b[K     |██████████████████              | 624 kB 5.1 MB/s eta 0:00:01\r\u001b[K     |██████████████████▍             | 634 kB 5.1 MB/s eta 0:00:01\r\u001b[K     |██████████████████▋             | 645 kB 5.1 MB/s eta 0:00:01\r\u001b[K     |███████████████████             | 655 kB 5.1 MB/s eta 0:00:01\r\u001b[K     |███████████████████▎            | 665 kB 5.1 MB/s eta 0:00:01\r\u001b[K     |███████████████████▌            | 675 kB 5.1 MB/s eta 0:00:01\r\u001b[K     |███████████████████▉            | 686 kB 5.1 MB/s eta 0:00:01\r\u001b[K     |████████████████████▏           | 696 kB 5.1 MB/s eta 0:00:01\r\u001b[K     |████████████████████▍           | 706 kB 5.1 MB/s eta 0:00:01\r\u001b[K     |████████████████████▊           | 716 kB 5.1 MB/s eta 0:00:01\r\u001b[K     |█████████████████████           | 727 kB 5.1 MB/s eta 0:00:01\r\u001b[K     |█████████████████████▎          | 737 kB 5.1 MB/s eta 0:00:01\r\u001b[K     |█████████████████████▋          | 747 kB 5.1 MB/s eta 0:00:01\r\u001b[K     |██████████████████████          | 757 kB 5.1 MB/s eta 0:00:01\r\u001b[K     |██████████████████████▏         | 768 kB 5.1 MB/s eta 0:00:01\r\u001b[K     |██████████████████████▌         | 778 kB 5.1 MB/s eta 0:00:01\r\u001b[K     |██████████████████████▉         | 788 kB 5.1 MB/s eta 0:00:01\r\u001b[K     |███████████████████████         | 798 kB 5.1 MB/s eta 0:00:01\r\u001b[K     |███████████████████████▍        | 808 kB 5.1 MB/s eta 0:00:01\r\u001b[K     |███████████████████████▊        | 819 kB 5.1 MB/s eta 0:00:01\r\u001b[K     |████████████████████████        | 829 kB 5.1 MB/s eta 0:00:01\r\u001b[K     |████████████████████████▎       | 839 kB 5.1 MB/s eta 0:00:01\r\u001b[K     |████████████████████████▋       | 849 kB 5.1 MB/s eta 0:00:01\r\u001b[K     |████████████████████████▉       | 860 kB 5.1 MB/s eta 0:00:01\r\u001b[K     |█████████████████████████▏      | 870 kB 5.1 MB/s eta 0:00:01\r\u001b[K     |█████████████████████████▍      | 880 kB 5.1 MB/s eta 0:00:01\r\u001b[K     |█████████████████████████▊      | 890 kB 5.1 MB/s eta 0:00:01\r\u001b[K     |██████████████████████████      | 901 kB 5.1 MB/s eta 0:00:01\r\u001b[K     |██████████████████████████▎     | 911 kB 5.1 MB/s eta 0:00:01\r\u001b[K     |██████████████████████████▋     | 921 kB 5.1 MB/s eta 0:00:01\r\u001b[K     |███████████████████████████     | 931 kB 5.1 MB/s eta 0:00:01\r\u001b[K     |███████████████████████████▏    | 942 kB 5.1 MB/s eta 0:00:01\r\u001b[K     |███████████████████████████▌    | 952 kB 5.1 MB/s eta 0:00:01\r\u001b[K     |███████████████████████████▉    | 962 kB 5.1 MB/s eta 0:00:01\r\u001b[K     |████████████████████████████    | 972 kB 5.1 MB/s eta 0:00:01\r\u001b[K     |████████████████████████████▍   | 983 kB 5.1 MB/s eta 0:00:01\r\u001b[K     |████████████████████████████▊   | 993 kB 5.1 MB/s eta 0:00:01\r\u001b[K     |█████████████████████████████   | 1.0 MB 5.1 MB/s eta 0:00:01\r\u001b[K     |█████████████████████████████▎  | 1.0 MB 5.1 MB/s eta 0:00:01\r\u001b[K     |█████████████████████████████▋  | 1.0 MB 5.1 MB/s eta 0:00:01\r\u001b[K     |█████████████████████████████▉  | 1.0 MB 5.1 MB/s eta 0:00:01\r\u001b[K     |██████████████████████████████▏ | 1.0 MB 5.1 MB/s eta 0:00:01\r\u001b[K     |██████████████████████████████▌ | 1.1 MB 5.1 MB/s eta 0:00:01\r\u001b[K     |██████████████████████████████▊ | 1.1 MB 5.1 MB/s eta 0:00:01\r\u001b[K     |███████████████████████████████ | 1.1 MB 5.1 MB/s eta 0:00:01\r\u001b[K     |███████████████████████████████▍| 1.1 MB 5.1 MB/s eta 0:00:01\r\u001b[K     |███████████████████████████████▋| 1.1 MB 5.1 MB/s eta 0:00:01\r\u001b[K     |████████████████████████████████| 1.1 MB 5.1 MB/s eta 0:00:01\r\u001b[K     |████████████████████████████████| 1.1 MB 5.1 MB/s \n",
            "\u001b[?25h"
          ],
          "name": "stdout"
        }
      ]
    },
    {
      "cell_type": "code",
      "metadata": {
        "colab": {
          "base_uri": "https://localhost:8080/"
        },
        "id": "tNWNg21mQxJR",
        "outputId": "a72d359f-7c2f-47d6-ffff-65055b7ca6fc"
      },
      "source": [
        "!pip install -qe doctr/. # Install doctr"
      ],
      "execution_count": 4,
      "outputs": [
        {
          "output_type": "stream",
          "text": [
            "\u001b[K     |████████████████████████████████| 49.9 MB 14 kB/s \n",
            "\u001b[K     |████████████████████████████████| 6.4 MB 40.9 MB/s \n",
            "\u001b[K     |████████████████████████████████| 123 kB 60.2 MB/s \n",
            "\u001b[K     |████████████████████████████████| 86 kB 5.2 MB/s \n",
            "\u001b[K     |████████████████████████████████| 365 kB 38.7 MB/s \n",
            "\u001b[K     |████████████████████████████████| 241 kB 43.4 MB/s \n",
            "\u001b[K     |████████████████████████████████| 3.0 MB 40.5 MB/s \n",
            "\u001b[K     |████████████████████████████████| 45 kB 2.9 MB/s \n",
            "\u001b[K     |████████████████████████████████| 70 kB 6.8 MB/s \n",
            "\u001b[K     |████████████████████████████████| 2.0 MB 50.2 MB/s \n",
            "\u001b[?25h  Building wheel for mplcursors (setup.py) ... \u001b[?25l\u001b[?25hdone\n",
            "  Building wheel for cairocffi (setup.py) ... \u001b[?25l\u001b[?25hdone\n",
            "\u001b[31mERROR: pip's dependency resolver does not currently take into account all the packages that are installed. This behaviour is the source of the following dependency conflicts.\n",
            "albumentations 0.1.12 requires imgaug<0.2.7,>=0.2.5, but you have imgaug 0.2.9 which is incompatible.\u001b[0m\n"
          ],
          "name": "stdout"
        }
      ]
    },
    {
      "cell_type": "code",
      "metadata": {
        "id": "MelPKAuaQ-R6"
      },
      "source": [
        "from doctr.io import DocumentFile # for converting docs to 3-D vectors\n",
        "from doctr.models import ocr_predictor"
      ],
      "execution_count": 2,
      "outputs": []
    },
    {
      "cell_type": "markdown",
      "metadata": {
        "id": "BO-duNZ-e6vH"
      },
      "source": [
        "## Doctr model"
      ]
    },
    {
      "cell_type": "code",
      "metadata": {
        "colab": {
          "base_uri": "https://localhost:8080/",
          "height": 136,
          "referenced_widgets": [
            "bcfcc683cc2c42d9b7fc2f8712d691b6",
            "ee3e616bc1574762995b0c11fae9fea6",
            "df655f21a18f4f3bbdb9761a8ad4cec7",
            "c4bb0961502b4e918562c3a15cdbdc7c",
            "dbb89e67cfed4290b7528a54984138cf",
            "0a4ff5231ec347259d730571c1f42a66",
            "4e815b6275004b049a98f53a991f4a5e",
            "82a98d6c5a394cd48648cf391004c9e1",
            "03461f283a7e472b8753beeb959c8a7b",
            "fd8851a68b5d44e2804e9460c1a226d4",
            "7e7b550d25a54964b85649ffd405a524",
            "bcf55d9740014eff83e0c804deab3bdc",
            "2ffec019c3264a2a81d193720f5a876f",
            "b4e67656938d4324b9eeb19a884a9d57",
            "8562f05f690648388c4f49ded3157cc0",
            "350d86f45a91427d8a4adb00e1b2c381",
            "05f7eb4a68a24124899f6357666d72c9",
            "d4243caedf4847d5ac082f603ae9cdbc",
            "56ea6f353d734839815816615f721c4f",
            "52681ba229404c4bba91b79abcaf0e4f",
            "0143b6e8b1094dcab2c26e1415176090",
            "9c035a179b44421d8a52ba46ddf0f778"
          ]
        },
        "id": "lq1TbJh_Ruej",
        "outputId": "ed3fd4eb-81d1-4945-e171-50630228a903"
      },
      "source": [
        "model = ocr_predictor(pretrained= True)"
      ],
      "execution_count": 3,
      "outputs": [
        {
          "output_type": "stream",
          "text": [
            "Downloading https://github.com/mindee/doctr/releases/download/v0.2.0/db_resnet50-adcafc63.zip to /root/.cache/doctr/models/db_resnet50-adcafc63.zip\n"
          ],
          "name": "stdout"
        },
        {
          "output_type": "display_data",
          "data": {
            "application/vnd.jupyter.widget-view+json": {
              "model_id": "bcfcc683cc2c42d9b7fc2f8712d691b6",
              "version_minor": 0,
              "version_major": 2
            },
            "text/plain": [
              "  0%|          | 0/94178964 [00:00<?, ?it/s]"
            ]
          },
          "metadata": {}
        },
        {
          "output_type": "stream",
          "text": [
            "Downloading https://github.com/mindee/doctr/releases/download/v0.3.0/crnn_vgg16_bn-76b7f2c6.zip to /root/.cache/doctr/models/crnn_vgg16_bn-76b7f2c6.zip\n"
          ],
          "name": "stdout"
        },
        {
          "output_type": "display_data",
          "data": {
            "application/vnd.jupyter.widget-view+json": {
              "model_id": "bcf55d9740014eff83e0c804deab3bdc",
              "version_minor": 0,
              "version_major": 2
            },
            "text/plain": [
              "  0%|          | 0/58758994 [00:00<?, ?it/s]"
            ]
          },
          "metadata": {}
        }
      ]
    },
    {
      "cell_type": "code",
      "metadata": {
        "colab": {
          "base_uri": "https://localhost:8080/"
        },
        "id": "eUe2KxDcSHPC",
        "outputId": "6b7bc1e5-0076-4eff-f342-b33a59ab634e"
      },
      "source": [
        "document = DocumentFile.from_images('image2.jpeg') # Covert the image into vectors\n",
        "print(document[0].shape)\n",
        "result = model(document)\n",
        "print(result)"
      ],
      "execution_count": 28,
      "outputs": [
        {
          "output_type": "stream",
          "text": [
            "(555, 1338, 3)\n",
            "Document(\n",
            "  (pages): [Page(\n",
            "    dimensions=(555, 1338)\n",
            "    (blocks): [Block(\n",
            "      (lines): [Line(\n",
            "        (words): [\n",
            "          Word(value='-', confidence=0.98),\n",
            "          Word(value='-', confidence=0.95),\n",
            "          Word(value='FDlinIndia-', confidence=0.6),\n",
            "          Word(value='from', confidence=0.84),\n",
            "          Word(value='2000to2016', confidence=0.76),\n",
            "          Word(value='Journey', confidence=0.99),\n",
            "          Word(value='-', confidence=0.99),\n",
            "          Word(value='Thank', confidence=0.82),\n",
            "          Word(value='You', confidence=0.99),\n",
            "          Word(value='AnyQuestions', confidence=0.86),\n",
            "          Word(value='Please..!!', confidence=0.53),\n",
            "        ]\n",
            "      )]\n",
            "      (artefacts): []\n",
            "    )]\n",
            "  )]\n",
            ")\n"
          ],
          "name": "stdout"
        }
      ]
    },
    {
      "cell_type": "code",
      "metadata": {
        "colab": {
          "base_uri": "https://localhost:8080/",
          "height": 330
        },
        "id": "HpGoOas5WW2p",
        "outputId": "1381de73-0c90-4d08-b100-5c275b7d7a13"
      },
      "source": [
        "result.show(document)"
      ],
      "execution_count": 21,
      "outputs": [
        {
          "output_type": "display_data",
          "data": {
            "image/png": "[encoded data removed]",
            "text/plain": [
              "<Figure size 720x298.655 with 1 Axes>"
            ]
          },
          "metadata": {
            "needs_background": "light"
          }
        }
      ]
    },
    {
      "cell_type": "code",
      "metadata": {
        "colab": {
          "base_uri": "https://localhost:8080/"
        },
        "id": "6Hav2VdDWbAs",
        "outputId": "13266a02-2b8c-4682-89be-5a7dca863482"
      },
      "source": [
        "result_json = result.export()\n",
        "result_json"
      ],
      "execution_count": 22,
      "outputs": [
        {
          "output_type": "execute_result",
          "data": {
            "text/plain": [
              "{'pages': [{'blocks': [{'artefacts': [],\n",
              "     'geometry': ((0.33203125, 0.0263671875), (0.673828125, 0.6630859375)),\n",
              "     'lines': [{'geometry': ((0.33203125, 0.0263671875),\n",
              "        (0.673828125, 0.6630859375)),\n",
              "       'words': [{'confidence': 0.9816014170646667,\n",
              "         'geometry': ((0.4208984375, 0.0458984375),\n",
              "          (0.4287109375, 0.0537109375)),\n",
              "         'value': '-'},\n",
              "        {'confidence': 0.9535748958587646,\n",
              "         'geometry': ((0.4296875, 0.044921875), (0.439453125, 0.0556640625)),\n",
              "         'value': '-'},\n",
              "        {'confidence': 0.5954161882400513,\n",
              "         'geometry': ((0.33203125, 0.0283203125),\n",
              "          (0.4326171875, 0.0673828125)),\n",
              "         'value': 'FDlinIndia-'},\n",
              "        {'confidence': 0.843623697757721,\n",
              "         'geometry': ((0.5078125, 0.02734375), (0.556640625, 0.0712890625)),\n",
              "         'value': 'from'},\n",
              "        {'confidence': 0.7584356069564819,\n",
              "         'geometry': ((0.552734375, 0.0263671875), (0.673828125, 0.0703125)),\n",
              "         'value': '2000to2016'},\n",
              "        {'confidence': 0.9870968461036682,\n",
              "         'geometry': ((0.4365234375, 0.0283203125),\n",
              "          (0.51171875, 0.0751953125)),\n",
              "         'value': 'Journey'},\n",
              "        {'confidence': 0.9889936447143555,\n",
              "         'geometry': ((0.529296875, 0.376953125),\n",
              "          (0.5380859375, 0.3896484375)),\n",
              "         'value': '-'},\n",
              "        {'confidence': 0.8199373483657837,\n",
              "         'geometry': ((0.419921875, 0.3408203125),\n",
              "          (0.5380859375, 0.4189453125)),\n",
              "         'value': 'Thank'},\n",
              "        {'confidence': 0.9892237782478333,\n",
              "         'geometry': ((0.5185546875, 0.34375), (0.6015625, 0.4189453125)),\n",
              "         'value': 'You'},\n",
              "        {'confidence': 0.8622943758964539,\n",
              "         'geometry': ((0.3798828125, 0.4580078125),\n",
              "          (0.6416015625, 0.5576171875)),\n",
              "         'value': 'AnyQuestions'},\n",
              "        {'confidence': 0.5318099856376648,\n",
              "         'geometry': ((0.4296875, 0.5810546875), (0.5908203125, 0.6630859375)),\n",
              "         'value': 'Please..!!'}]}]}],\n",
              "   'dimensions': (555, 1338),\n",
              "   'language': {'confidence': None, 'value': None},\n",
              "   'orientation': {'confidence': None, 'value': None},\n",
              "   'page_idx': 0}]}"
            ]
          },
          "metadata": {},
          "execution_count": 22
        }
      ]
    },
    {
      "cell_type": "markdown",
      "metadata": {
        "id": "xvp693YlfCBF"
      },
      "source": [
        "## Cleaned result"
      ]
    },
    {
      "cell_type": "code",
      "metadata": {
        "colab": {
          "base_uri": "https://localhost:8080/"
        },
        "id": "vPAuEi-QWmvX",
        "outputId": "43dd7224-b8e2-43ec-c8e6-978c6ff19685"
      },
      "source": [
        "import re\n",
        "to_extract = re.compile('[^a-zA-Z0-9]')\n",
        "word_list = result_json['pages'][0]['blocks'][0]['lines'][0]['words']\n",
        "words = [word['value'] for word in word_list]\n",
        "confidence = [word['confidence'] for word in word_list]\n",
        "descriptions = list(zip(words,confidence))\n",
        "for item in descriptions:\n",
        "  print(f'word : {item[0]}  confidence : {item[1]}')\n",
        "text = ' '.join(words).lower()\n",
        "text = to_extract.sub(' ',text).strip()\n",
        "print('\\n\\n','text ->',text)"
      ],
      "execution_count": 64,
      "outputs": [
        {
          "output_type": "stream",
          "text": [
            "word : -  confidence : 0.9816014170646667\n",
            "word : -  confidence : 0.9535748958587646\n",
            "word : FDlinIndia-  confidence : 0.5954161882400513\n",
            "word : from  confidence : 0.843623697757721\n",
            "word : 2000to2016  confidence : 0.7584356069564819\n",
            "word : Journey  confidence : 0.9870968461036682\n",
            "word : -  confidence : 0.9889936447143555\n",
            "word : Thank  confidence : 0.8199373483657837\n",
            "word : You  confidence : 0.9892237782478333\n",
            "word : AnyQuestions  confidence : 0.8622943758964539\n",
            "word : Please..!!  confidence : 0.5318099856376648\n",
            "\n",
            "\n",
            " text -> fdlinindia  from 2000to2016 journey   thank you anyquestions please\n"
          ],
          "name": "stdout"
        }
      ]
    },
    {
      "cell_type": "markdown",
      "metadata": {
        "id": "CkfToqZGecpo"
      },
      "source": [
        "Observation : 2000to2016 & AnyQuestions was not seprately identified"
      ]
    }
  ]
}